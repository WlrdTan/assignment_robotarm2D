{
  "cells": [
    {
      "cell_type": "markdown",
      "metadata": {
        "id": "view-in-github",
        "colab_type": "text"
      },
      "source": [
        "<a href=\"https://colab.research.google.com/github/WlrdTan/assignment_robotarm2D/blob/main/robotArmFrames.ipynb\" target=\"_parent\"><img src=\"https://colab.research.google.com/assets/colab-badge.svg\" alt=\"Open In Colab\"/></a>"
      ]
    },
    {
      "cell_type": "code",
      "execution_count": null,
      "id": "312fd7bf",
      "metadata": {
        "colab": {
          "base_uri": "https://localhost:8080/",
          "height": 35
        },
        "id": "312fd7bf",
        "outputId": "4e6a4d81-6c37-486d-c63f-da9340492481"
      },
      "outputs": [
        {
          "output_type": "execute_result",
          "data": {
            "text/plain": [
              "' Kinematic chain of a robot arm (planar)\\n    Assignment \\n'"
            ],
            "application/vnd.google.colaboratory.intrinsic+json": {
              "type": "string"
            }
          },
          "metadata": {},
          "execution_count": 1
        }
      ],
      "source": [
        "\"\"\" Kinematic chain of a robot arm (planar)\n",
        "    Assignment\n",
        "\"\"\""
      ]
    },
    {
      "cell_type": "markdown",
      "id": "ba6568e4",
      "metadata": {
        "id": "ba6568e4"
      },
      "source": [
        "\n",
        "![](https://github.com/eraldoribeiro/assignment_robotarm2D/blob/main/robotArm01.png?raw=1)\n",
        "*Figure 1*: A two-dimensional articulated arm. The articulated structure has 3 local coordinate frames each one centered at a joint. For each part, the local x-axis is aligned with the part.  \n",
        "\n",
        "Consider the arm structure shown in Figure 1. Assume the following values for the arm configuration:\n",
        "- The location of the first joint (i.e., the one that is attached to the ground support) is ${\\bf p}_1 = \\left(3,2\\right)^\\mathsf{T}$.\n",
        "- The lengths of the parts are $L_1 = 5$ and  $L_2 = 8$."
      ]
    },
    {
      "cell_type": "code",
      "execution_count": null,
      "id": "2a4e0632",
      "metadata": {
        "id": "2a4e0632"
      },
      "outputs": [],
      "source": [
        "import numpy as np\n",
        "import math as mph"
      ]
    },
    {
      "cell_type": "markdown",
      "id": "0b27c659",
      "metadata": {
        "id": "0b27c659"
      },
      "source": [
        "### Question 1\n",
        "\n",
        "Write the matrices that represent the local coordinate frames $\\mathcal F\\{1\\}$, $\\mathcal F\\{2\\}$, and $\\mathcal F\\{3\\}$. These frames are indicated in green in Figure 1. The transformation matrices you need to write are $T_{0,1}$, $T_{1,2}$, and $T_{2,3}$."
      ]
    },
    {
      "cell_type": "code",
      "execution_count": 37,
      "id": "5ddc94ae",
      "metadata": {
        "id": "5ddc94ae",
        "colab": {
          "base_uri": "https://localhost:8080/"
        },
        "outputId": "ba3d8c79-1497-45e6-9aa9-db38291e32b1"
      },
      "outputs": [
        {
          "output_type": "stream",
          "name": "stdout",
          "text": [
            "T0,1 =\n",
            " [[1. 0. 3.]\n",
            " [0. 1. 2.]\n",
            " [0. 0. 1.]]\n",
            "\n",
            "T1,2 =\n",
            " [[1. 0. 5.]\n",
            " [0. 1. 0.]\n",
            " [0. 0. 1.]]\n",
            "\n",
            "T2,3 =\n",
            " [[1. 0. 8.]\n",
            " [0. 1. 0.]\n",
            " [0. 0. 1.]]\n"
          ]
        }
      ],
      "source": [
        "import numpy as np\n",
        "\n",
        "L1 = 5\n",
        "L2 = 8\n",
        "p1 = np.array([3, 2])\n",
        "phi1 = 0.0\n",
        "phi2 = 0.0\n",
        "\n",
        "def rotation_2d(theta):\n",
        "    c = np.cos(theta)\n",
        "    s = np.sin(theta)\n",
        "    return np.array([\n",
        "        [c, -s, 0],\n",
        "        [s,  c, 0],\n",
        "        [0,  0, 1]\n",
        "    ])\n",
        "\n",
        "def T0_1(phi1, p1):\n",
        "    T = np.eye(3)\n",
        "    T[0, 2] = p1[0]\n",
        "    T[1, 2] = p1[1]\n",
        "    return T @ rotation_2d(phi1)\n",
        "\n",
        "def T1_2(phi2, L1):\n",
        "    T_translate = np.eye(3)\n",
        "    T_translate[0, 2] = L1\n",
        "    return T_translate @ rotation_2d(phi2)\n",
        "\n",
        "def T2_3(L2):\n",
        "    T = np.eye(3)\n",
        "    T[0, 2] = L2\n",
        "    return T\n",
        "\n",
        "T01 = T0_1(phi1, p1)\n",
        "T12 = T1_2(phi2, L1)\n",
        "T23 = T2_3(L2)\n",
        "\n",
        "print(\"T0,1 =\\n\", T01)\n",
        "print(\"\\nT1,2 =\\n\", T12)\n",
        "print(\"\\nT2,3 =\\n\", T23)\n",
        "\n",
        "\n"
      ]
    },
    {
      "cell_type": "markdown",
      "id": "08eafd4c",
      "metadata": {
        "id": "08eafd4c"
      },
      "source": [
        "### Question 2\n",
        "\n",
        "Write the matrices that represent each local frame w.r.t. the global frame $\\mathcal F\\{0\\}$. The transformations you need to write are $T_{0,1}$, $T_{0,2}$, and $T_{0,3}$."
      ]
    },
    {
      "cell_type": "code",
      "execution_count": 44,
      "id": "468d7a8a",
      "metadata": {
        "id": "468d7a8a",
        "colab": {
          "base_uri": "https://localhost:8080/"
        },
        "outputId": "465c224a-3c24-46b5-d7c1-5a5c14cf4dcf"
      },
      "outputs": [
        {
          "output_type": "stream",
          "name": "stdout",
          "text": [
            "T0,1 =\n",
            " [[ 1. -0.  3.]\n",
            " [ 0.  1.  2.]\n",
            " [ 0.  0.  1.]]\n",
            "\n",
            "T0,2 =\n",
            " [[1. 0. 8.]\n",
            " [0. 1. 2.]\n",
            " [0. 0. 1.]]\n",
            "\n",
            "T0,3 =\n",
            " [[ 1.  0. 16.]\n",
            " [ 0.  1.  2.]\n",
            " [ 0.  0.  1.]]\n"
          ]
        }
      ],
      "source": [
        "import numpy as np\n",
        "\n",
        "p1 = np.array([3, 2])\n",
        "L1 = 5\n",
        "L2 = 8\n",
        "\n",
        "phi1 = np.deg2rad(0)\n",
        "phi2 = np.deg2rad(0)\n",
        "\n",
        "def transformation_matrix(rotation, translation):\n",
        "    c = np.cos(rotation)\n",
        "    s = np.sin(rotation)\n",
        "    T = np.array([\n",
        "        [c, -s, translation[0]],\n",
        "        [s,  c, translation[1]],\n",
        "        [0,  0, 1]\n",
        "    ])\n",
        "    return T\n",
        "\n",
        "T0_1 = transformation_matrix(phi1, p1)\n",
        "T1_2 = transformation_matrix(phi2, np.array([L1, 0]))\n",
        "T2_3 = transformation_matrix(0, np.array([L2, 0]))\n",
        "\n",
        "T0_2 = T0_1 @ T1_2\n",
        "T0_3 = T0_2 @ T2_3\n",
        "\n",
        "print(\"T0,1 =\\n\", T0_1)\n",
        "print(\"\\nT0,2 =\\n\", T0_2)\n",
        "print(\"\\nT0,3 =\\n\", T0_3)\n",
        "\n",
        "\n",
        "\n"
      ]
    },
    {
      "cell_type": "markdown",
      "id": "dbfe60c7",
      "metadata": {
        "id": "dbfe60c7"
      },
      "source": [
        "### Question 3\n",
        "\n",
        "Write the matrices that represent the local coordinate frames $\\mathcal F\\{1\\}$, $\\mathcal F\\{2\\}$, and $\\mathcal F\\{3\\}$. These frames are indicated in green in Figure 1. The transformation matrices you need to write are $T_{0,1}$, $T_{1,2}$, and $T_{2,3}$."
      ]
    },
    {
      "cell_type": "code",
      "execution_count": 48,
      "id": "bb0c3c41",
      "metadata": {
        "id": "bb0c3c41",
        "colab": {
          "base_uri": "https://localhost:8080/"
        },
        "outputId": "0d5081b4-acf9-44ea-cb69-36baddc4adb5"
      },
      "outputs": [
        {
          "output_type": "stream",
          "name": "stdout",
          "text": [
            "T0,1 =\n",
            " [[1. 0. 3.]\n",
            " [0. 1. 2.]\n",
            " [0. 0. 1.]]\n",
            "\n",
            "T1,2 =\n",
            " [[1. 0. 5.]\n",
            " [0. 1. 0.]\n",
            " [0. 0. 1.]]\n",
            "\n",
            "T2,3 =\n",
            " [[1. 0. 8.]\n",
            " [0. 1. 0.]\n",
            " [0. 0. 1.]]\n"
          ]
        }
      ],
      "source": [
        "import numpy as np\n",
        "\n",
        "L1 = 5\n",
        "L2 = 8\n",
        "p1 = np.array([3, 2])\n",
        "phi1 = 0.0\n",
        "phi2 = 0.0\n",
        "\n",
        "def rotation_2d(theta):\n",
        "    c = np.cos(theta)\n",
        "    s = np.sin(theta)\n",
        "    return np.array([\n",
        "        [ c, -s, 0 ],\n",
        "        [ s,  c, 0 ],\n",
        "        [ 0,  0, 1 ]\n",
        "    ])\n",
        "\n",
        "def translate_2d(dx, dy):\n",
        "    T = np.eye(3)\n",
        "    T[0, 2] = dx\n",
        "    T[1, 2] = dy\n",
        "    return T\n",
        "\n",
        "T0_1 = translate_2d(p1[0], p1[1]) @ rotation_2d(phi1)\n",
        "T1_2 = translate_2d(L1, 0) @ rotation_2d(phi2)\n",
        "T2_3 = translate_2d(L2, 0)\n",
        "\n",
        "print(\"T0,1 =\\n\", T0_1)\n",
        "print(\"\\nT1,2 =\\n\", T1_2)\n",
        "print(\"\\nT2,3 =\\n\", T2_3)\n",
        "\n",
        "\n",
        "\n",
        "\n"
      ]
    },
    {
      "cell_type": "markdown",
      "id": "80d5ab08",
      "metadata": {
        "id": "80d5ab08"
      },
      "source": [
        "### Question 4\n",
        "\n",
        "Using the transformations from the previous questions, calculate the global coordinates of the middle point of each part of the robot arm when $\\phi_1 = \\pi/8$ and $\\phi_2 = \\pi/4$. Hint: the location of the middle point of part 1 is $(\\frac{L_1}{2},0)^\\mathsf{T}$ (w.r.t. frame $\\mathcal F\\{1\\}$)."
      ]
    },
    {
      "cell_type": "code",
      "execution_count": 52,
      "id": "39fc9399",
      "metadata": {
        "id": "39fc9399",
        "colab": {
          "base_uri": "https://localhost:8080/"
        },
        "outputId": "6e438c27-7fcc-4ff2-e080-3c7a40b15eff"
      },
      "outputs": [
        {
          "output_type": "stream",
          "name": "stdout",
          "text": [
            "Global coordinates of midpoint of part 1 (first link): [5.30969883 2.95670858]\n",
            "Global coordinates of midpoint of part 2 (second link): [9.15013139 7.60893529]\n"
          ]
        }
      ],
      "source": [
        "import numpy as np\n",
        "\n",
        "p1 = np.array([3, 2])\n",
        "L1 = 5\n",
        "L2 = 8\n",
        "\n",
        "phi1 = np.pi / 8\n",
        "phi2 = np.pi / 4\n",
        "\n",
        "def homogeneous_transform(theta, translation):\n",
        "    c, s = np.cos(theta), np.sin(theta)\n",
        "    T = np.array([[c, -s, translation[0]],\n",
        "                  [s,  c, translation[1]],\n",
        "                  [0,  0, 1]])\n",
        "    return T\n",
        "\n",
        "T0_1 = homogeneous_transform(phi1, p1)\n",
        "T1_2 = homogeneous_transform(phi2, np.array([L1, 0]))\n",
        "T2_3 = homogeneous_transform(0, np.array([L2, 0]))\n",
        "T0_2 = T0_1 @ T1_2\n",
        "\n",
        "midpoint1_local = np.array([L1 / 2, 0, 1])\n",
        "midpoint1_global = T0_1 @ midpoint1_local\n",
        "\n",
        "midpoint2_local = np.array([L2 / 2, 0, 1])\n",
        "midpoint2_global = T0_2 @ midpoint2_local\n",
        "\n",
        "print(\"Global coordinates of midpoint of part 1 (first link):\", midpoint1_global[:2])\n",
        "print(\"Global coordinates of midpoint of part 2 (second link):\", midpoint2_global[:2])\n",
        "\n",
        "\n",
        "\n",
        "\n",
        "\n"
      ]
    },
    {
      "cell_type": "markdown",
      "id": "7b1d733f",
      "metadata": {
        "id": "7b1d733f"
      },
      "source": [
        "### Question 5\n",
        "\n",
        "Using the transformations from the previous questions, calculate the global coordinates of all the joint points and the end-effector location when $\\phi_1 = \\pi/4$ and $\\phi_2 = \\pi/8$."
      ]
    },
    {
      "cell_type": "code",
      "execution_count": 55,
      "id": "817e8a81",
      "metadata": {
        "id": "817e8a81",
        "colab": {
          "base_uri": "https://localhost:8080/"
        },
        "outputId": "83bdaa2c-9ac3-48bd-e1fe-0d776497abcf"
      },
      "outputs": [
        {
          "output_type": "stream",
          "name": "stdout",
          "text": [
            "Global coordinate of Joint 1 (origin of F1): [3 2]\n",
            "Global coordinate of Joint 2 (origin of F2): [6.53553391 5.53553391]\n",
            "Global coordinate of the End-Effector (origin of F3): [ 9.59700136 12.92657017]\n"
          ]
        }
      ],
      "source": [
        "import numpy as np\n",
        "\n",
        "p1 = np.array([3, 2])\n",
        "L1 = 5\n",
        "L2 = 8\n",
        "\n",
        "phi1 = np.pi / 4\n",
        "phi2 = np.pi / 8\n",
        "\n",
        "def homogeneous_transform(theta, translation):\n",
        "    c, s = np.cos(theta), np.sin(theta)\n",
        "    T = np.array([\n",
        "        [c, -s, translation[0]],\n",
        "        [s,  c, translation[1]],\n",
        "        [0,  0, 1]\n",
        "    ])\n",
        "    return T\n",
        "\n",
        "T0_1 = homogeneous_transform(phi1, p1)\n",
        "T1_2 = homogeneous_transform(phi2, np.array([L1, 0]))\n",
        "T2_3 = homogeneous_transform(0, np.array([L2, 0]))\n",
        "\n",
        "T0_2 = T0_1 @ T1_2\n",
        "T0_3 = T0_2 @ T2_3\n",
        "\n",
        "joint1_global = p1\n",
        "joint2_global = (T0_2 @ np.array([0, 0, 1]))[:2]\n",
        "end_effector_global = (T0_3 @ np.array([0, 0, 1]))[:2]\n",
        "\n",
        "print(\"Global coordinate of Joint 1 (origin of F1):\", joint1_global)\n",
        "print(\"Global coordinate of Joint 2 (origin of F2):\", joint2_global)\n",
        "print(\"Global coordinate of the End-Effector (origin of F3):\", end_effector_global)\n",
        "\n",
        "\n",
        "\n",
        "\n"
      ]
    },
    {
      "cell_type": "markdown",
      "id": "66b1cac7",
      "metadata": {
        "id": "66b1cac7"
      },
      "source": [
        "### Question 6\n",
        "\n",
        "Write the matrix that represents the coordinate frame of the end effector w.r.t. frame  $\\mathcal F\\{1\\}$, i.e., $T_{1,3}$"
      ]
    },
    {
      "cell_type": "code",
      "execution_count": 58,
      "id": "cf5fb9dd",
      "metadata": {
        "id": "cf5fb9dd",
        "tags": [],
        "colab": {
          "base_uri": "https://localhost:8080/"
        },
        "outputId": "4734df46-ae2d-4c1c-cf32-56f1192e7ed6"
      },
      "outputs": [
        {
          "output_type": "stream",
          "name": "stdout",
          "text": [
            "T1,3 =\n",
            " [[ 0.70710678 -0.70710678 10.65685425]\n",
            " [ 0.70710678  0.70710678  5.65685425]\n",
            " [ 0.          0.          1.        ]]\n"
          ]
        }
      ],
      "source": [
        "import numpy as np\n",
        "\n",
        "phi1 = np.pi/6\n",
        "phi2 = np.pi/4\n",
        "L1 = 5\n",
        "L2 = 8\n",
        "\n",
        "def rotation_2d(theta):\n",
        "    c = np.cos(theta)\n",
        "    s = np.sin(theta)\n",
        "    return np.array([\n",
        "        [ c, -s, 0 ],\n",
        "        [ s,  c, 0 ],\n",
        "        [ 0,  0, 1 ]\n",
        "    ])\n",
        "\n",
        "def translate_2d(dx, dy):\n",
        "    T = np.eye(3)\n",
        "    T[0, 2] = dx\n",
        "    T[1, 2] = dy\n",
        "    return T\n",
        "\n",
        "T1_2 = translate_2d(L1, 0) @ rotation_2d(phi2)\n",
        "T2_3 = translate_2d(L2, 0)\n",
        "T1_3 = T1_2 @ T2_3\n",
        "\n",
        "print(\"T1,3 =\\n\", T1_3)\n",
        "\n",
        "\n",
        "\n",
        "\n"
      ]
    },
    {
      "cell_type": "markdown",
      "id": "3a84cb79",
      "metadata": {
        "id": "3a84cb79"
      },
      "source": [
        "### Question 7\n",
        "\n",
        "Write the matrix that represents the coordinate frame $\\mathcal F\\{1\\}$ w.r.t. to the frame of the end effector"
      ]
    },
    {
      "cell_type": "code",
      "execution_count": 64,
      "id": "b39f8800",
      "metadata": {
        "id": "b39f8800",
        "colab": {
          "base_uri": "https://localhost:8080/"
        },
        "outputId": "952d6187-e020-4777-ae9d-379a2489cee4"
      },
      "outputs": [
        {
          "output_type": "stream",
          "name": "stdout",
          "text": [
            "T1,3 =\n",
            " [[ 0.70710678 -0.70710678 10.65685425]\n",
            " [ 0.70710678  0.70710678  5.65685425]\n",
            " [ 0.          0.          1.        ]]\n",
            "\n",
            "T3,1 = (T1,3)^-1 =\n",
            " [[  0.70710678   0.70710678 -11.53553391]\n",
            " [ -0.70710678   0.70710678   3.53553391]\n",
            " [  0.           0.           1.        ]]\n"
          ]
        }
      ],
      "source": [
        "import numpy as np\n",
        "\n",
        "phi2 = np.pi / 4\n",
        "L1 = 5\n",
        "L2 = 8\n",
        "\n",
        "def rotation_2d(theta):\n",
        "    c = np.cos(theta)\n",
        "    s = np.sin(theta)\n",
        "    return np.array([\n",
        "        [ c, -s, 0 ],\n",
        "        [ s,  c, 0 ],\n",
        "        [ 0,  0, 1 ]\n",
        "    ])\n",
        "\n",
        "def translate_2d(dx, dy):\n",
        "    T = np.eye(3)\n",
        "    T[0, 2] = dx\n",
        "    T[1, 2] = dy\n",
        "    return T\n",
        "\n",
        "T1_2 = translate_2d(L1, 0) @ rotation_2d(phi2)\n",
        "T2_3 = translate_2d(L2, 0)\n",
        "T1_3 = T1_2 @ T2_3\n",
        "\n",
        "print(\"T1,3 =\\n\", T1_3)\n",
        "\n",
        "T3_1 = np.linalg.inv(T1_3)\n",
        "\n",
        "print(\"\\nT3,1 = (T1,3)^-1 =\\n\", T3_1)\n",
        "\n",
        "\n",
        "\n"
      ]
    }
  ],
  "metadata": {
    "colab": {
      "provenance": [],
      "include_colab_link": true
    },
    "kernelspec": {
      "display_name": "Python 3",
      "language": "python",
      "name": "python3"
    },
    "language_info": {
      "codemirror_mode": {
        "name": "ipython",
        "version": 3
      },
      "file_extension": ".py",
      "mimetype": "text/x-python",
      "name": "python",
      "nbconvert_exporter": "python",
      "pygments_lexer": "ipython3",
      "version": "3.9.2"
    }
  },
  "nbformat": 4,
  "nbformat_minor": 5
}