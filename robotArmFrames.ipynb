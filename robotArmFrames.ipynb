{
  "cells": [
    {
      "cell_type": "markdown",
      "metadata": {
        "id": "view-in-github",
        "colab_type": "text"
      },
      "source": [
        "<a href=\"https://colab.research.google.com/github/WlrdTan/assignment_robotarm2D/blob/main/robotArmFrames.ipynb\" target=\"_parent\"><img src=\"https://colab.research.google.com/assets/colab-badge.svg\" alt=\"Open In Colab\"/></a>"
      ]
    },
    {
      "cell_type": "code",
      "execution_count": null,
      "id": "312fd7bf",
      "metadata": {
        "colab": {
          "base_uri": "https://localhost:8080/",
          "height": 35
        },
        "id": "312fd7bf",
        "outputId": "4e6a4d81-6c37-486d-c63f-da9340492481"
      },
      "outputs": [
        {
          "output_type": "execute_result",
          "data": {
            "text/plain": [
              "' Kinematic chain of a robot arm (planar)\\n    Assignment \\n'"
            ],
            "application/vnd.google.colaboratory.intrinsic+json": {
              "type": "string"
            }
          },
          "metadata": {},
          "execution_count": 1
        }
      ],
      "source": [
        "\"\"\" Kinematic chain of a robot arm (planar)\n",
        "    Assignment\n",
        "\"\"\""
      ]
    },
    {
      "cell_type": "markdown",
      "id": "ba6568e4",
      "metadata": {
        "id": "ba6568e4"
      },
      "source": [
        "\n",
        "![](https://github.com/eraldoribeiro/assignment_robotarm2D/blob/main/robotArm01.png?raw=1)\n",
        "*Figure 1*: A two-dimensional articulated arm. The articulated structure has 3 local coordinate frames each one centered at a joint. For each part, the local x-axis is aligned with the part.  \n",
        "\n",
        "Consider the arm structure shown in Figure 1. Assume the following values for the arm configuration:\n",
        "- The location of the first joint (i.e., the one that is attached to the ground support) is ${\\bf p}_1 = \\left(3,2\\right)^\\mathsf{T}$.\n",
        "- The lengths of the parts are $L_1 = 5$ and  $L_2 = 8$."
      ]
    },
    {
      "cell_type": "code",
      "execution_count": null,
      "id": "2a4e0632",
      "metadata": {
        "id": "2a4e0632"
      },
      "outputs": [],
      "source": [
        "import numpy as np\n",
        "import math as mph"
      ]
    },
    {
      "cell_type": "markdown",
      "id": "0b27c659",
      "metadata": {
        "id": "0b27c659"
      },
      "source": [
        "### Question 1\n",
        "\n",
        "Write the matrices that represent the local coordinate frames $\\mathcal F\\{1\\}$, $\\mathcal F\\{2\\}$, and $\\mathcal F\\{3\\}$. These frames are indicated in green in Figure 1. The transformation matrices you need to write are $T_{0,1}$, $T_{1,2}$, and $T_{2,3}$."
      ]
    },
    {
      "cell_type": "code",
      "execution_count": 21,
      "id": "5ddc94ae",
      "metadata": {
        "id": "5ddc94ae",
        "outputId": "1877005c-24ec-4baa-e463-224cca41e9e0",
        "colab": {
          "base_uri": "https://localhost:8080/"
        }
      },
      "outputs": [
        {
          "output_type": "stream",
          "name": "stdout",
          "text": [
            "T0,1 =\n",
            " [[1. 0. 3.]\n",
            " [0. 1. 2.]\n",
            " [0. 0. 1.]]\n",
            "\n",
            "T1,2 =\n",
            " [[1. 0. 5.]\n",
            " [0. 1. 0.]\n",
            " [0. 0. 1.]]\n",
            "\n",
            "T2,3 =\n",
            " [[1. 0. 8.]\n",
            " [0. 1. 0.]\n",
            " [0. 0. 1.]]\n"
          ]
        }
      ],
      "source": [
        "import numpy as np\n",
        "\n",
        "# Given values\n",
        "L1 = 5\n",
        "L2 = 8\n",
        "p1 = np.array([3, 2])\n",
        "phi1 = 0.0\n",
        "phi2 = 0.0\n",
        "\n",
        "\n",
        "def rotation_2d(theta):\n",
        "    c = np.cos(theta)\n",
        "    s = np.sin(theta)\n",
        "    return np.array([\n",
        "        [ c, -s, 0 ],\n",
        "        [ s,  c, 0 ],\n",
        "        [ 0,  0, 1 ]\n",
        "    ])\n",
        "\n",
        "def T0_1(phi1, p1):\n",
        "    T = np.eye(3)\n",
        "    T[0, 2] = p1[0]\n",
        "    T[1, 2] = p1[1]\n",
        "    return T @ rotation_2d(phi1)\n",
        "\n",
        "def T1_2(phi2, L1):\n",
        "    T_translate = np.eye(3)\n",
        "    T_translate[0, 2] = L1\n",
        "    return T_translate @ rotation_2d(phi2)\n",
        "\n",
        "def T2_3(L2):\n",
        "    T = np.eye(3)\n",
        "    T[0, 2] = L2\n",
        "    return T\n",
        "\n",
        "# Build each transform\n",
        "T01 = T0_1(phi1, p1)\n",
        "T12 = T1_2(phi2, L1)\n",
        "T23 = T2_3(L2)\n",
        "\n",
        "print(\"T0,1 =\\n\", T01)\n",
        "print(\"\\nT1,2 =\\n\", T12)\n",
        "print(\"\\nT2,3 =\\n\", T23)\n",
        "\n",
        "\n"
      ]
    },
    {
      "cell_type": "markdown",
      "id": "08eafd4c",
      "metadata": {
        "id": "08eafd4c"
      },
      "source": [
        "### Question 2\n",
        "\n",
        "Write the matrices that represent each local frame w.r.t. the global frame $\\mathcal F\\{0\\}$. The transformations you need to write are $T_{0,1}$, $T_{0,2}$, and $T_{0,3}$."
      ]
    },
    {
      "cell_type": "code",
      "execution_count": 27,
      "id": "468d7a8a",
      "metadata": {
        "id": "468d7a8a",
        "outputId": "04ec73ec-fae5-4b80-aea9-3aaae4cfa4ff",
        "colab": {
          "base_uri": "https://localhost:8080/"
        }
      },
      "outputs": [
        {
          "output_type": "stream",
          "name": "stdout",
          "text": [
            "T0,1 =\n",
            " [[ 1. -0.  3.]\n",
            " [ 0.  1.  2.]\n",
            " [ 0.  0.  1.]]\n",
            "\n",
            "T0,2 =\n",
            " [[1. 0. 8.]\n",
            " [0. 1. 2.]\n",
            " [0. 0. 1.]]\n",
            "\n",
            "T0,3 =\n",
            " [[ 1.  0. 16.]\n",
            " [ 0.  1.  2.]\n",
            " [ 0.  0.  1.]]\n"
          ]
        }
      ],
      "source": [
        "import numpy as np\n",
        "\n",
        "p1 = np.array([3, 2])\n",
        "L1 = 5\n",
        "L2 = 8\n",
        "\n",
        "phi1 = np.deg2rad(0)\n",
        "phi2 = np.deg2rad(0)\n",
        "\n",
        "def transformation_matrix(rotation, translation):\n",
        "    c = np.cos(rotation)\n",
        "    s = np.sin(rotation)\n",
        "    return np.array([\n",
        "        [c, -s, translation[0]],\n",
        "        [s,  c, translation[1]],\n",
        "        [0,  0, 1]\n",
        "    ])\n",
        "\n",
        "T0_1 = transformation_matrix(phi1, p1)\n",
        "T1_2 = transformation_matrix(phi2, np.array([L1, 0]))\n",
        "T2_3 = transformation_matrix(0, np.array([L2, 0]))\n",
        "\n",
        "T0_2 = T0_1 @ T1_2\n",
        "T0_3 = T0_2 @ T2_3\n",
        "\n",
        "print(\"T0,1 =\\n\", T0_1)\n",
        "print(\"\\nT0,2 =\\n\", T0_2)\n",
        "print(\"\\nT0,3 =\\n\", T0_3)\n",
        "\n",
        "\n",
        "\n",
        "\n"
      ]
    },
    {
      "cell_type": "markdown",
      "id": "dbfe60c7",
      "metadata": {
        "id": "dbfe60c7"
      },
      "source": [
        "### Question 3\n",
        "\n",
        "Write the matrices that represent the local coordinate frames $\\mathcal F\\{1\\}$, $\\mathcal F\\{2\\}$, and $\\mathcal F\\{3\\}$. These frames are indicated in green in Figure 1. The transformation matrices you need to write are $T_{0,1}$, $T_{1,2}$, and $T_{2,3}$."
      ]
    },
    {
      "cell_type": "code",
      "execution_count": 26,
      "id": "bb0c3c41",
      "metadata": {
        "id": "bb0c3c41",
        "outputId": "f316cb6d-54ab-4c8c-88fd-172a7dd512aa",
        "colab": {
          "base_uri": "https://localhost:8080/"
        }
      },
      "outputs": [
        {
          "output_type": "stream",
          "name": "stdout",
          "text": [
            "T0,1 (F1 with respect to F0):\n",
            " [[ 1. -0.  3.]\n",
            " [ 0.  1.  2.]\n",
            " [ 0.  0.  1.]]\n",
            "\n",
            "T1,2 (F2 with respect to F1):\n",
            " [[ 1. -0.  5.]\n",
            " [ 0.  1.  0.]\n",
            " [ 0.  0.  1.]]\n",
            "\n",
            "T2,3 (F3 with respect to F2):\n",
            " [[ 1. -0.  8.]\n",
            " [ 0.  1.  0.]\n",
            " [ 0.  0.  1.]]\n"
          ]
        }
      ],
      "source": [
        "import numpy as np\n",
        "\n",
        "p1 = np.array([3, 2])\n",
        "L1 = 5\n",
        "L2 = 8\n",
        "\n",
        "phi1 = np.deg2rad(0)\n",
        "phi2 = np.deg2rad(0)\n",
        "\n",
        "def homogeneous_transform(theta, translation):\n",
        "    c, s = np.cos(theta), np.sin(theta)\n",
        "    T = np.array([\n",
        "        [c, -s, translation[0]],\n",
        "        [s,  c, translation[1]],\n",
        "        [0,  0, 1]\n",
        "    ])\n",
        "    return T\n",
        "\n",
        "T0_1 = homogeneous_transform(phi1, p1)\n",
        "T1_2 = homogeneous_transform(phi2, np.array([L1, 0]))\n",
        "T2_3 = homogeneous_transform(0, np.array([L2, 0]))\n",
        "\n",
        "print(\"T0,1 (F1 with respect to F0):\\n\", T0_1)\n",
        "print(\"\\nT1,2 (F2 with respect to F1):\\n\", T1_2)\n",
        "print(\"\\nT2,3 (F3 with respect to F2):\\n\", T2_3)\n",
        "\n",
        "\n",
        "\n",
        "\n"
      ]
    },
    {
      "cell_type": "markdown",
      "id": "80d5ab08",
      "metadata": {
        "id": "80d5ab08"
      },
      "source": [
        "### Question 4\n",
        "\n",
        "Using the transformations from the previous questions, calculate the global coordinates of the middle point of each part of the robot arm when $\\phi_1 = \\pi/8$ and $\\phi_2 = \\pi/4$. Hint: the location of the middle point of part 1 is $(\\frac{L_1}{2},0)^\\mathsf{T}$ (w.r.t. frame $\\mathcal F\\{1\\}$)."
      ]
    },
    {
      "cell_type": "code",
      "execution_count": 29,
      "id": "39fc9399",
      "metadata": {
        "id": "39fc9399",
        "outputId": "6d3d470a-c536-4d3b-e533-15a28de16300",
        "colab": {
          "base_uri": "https://localhost:8080/"
        }
      },
      "outputs": [
        {
          "output_type": "stream",
          "name": "stdout",
          "text": [
            "Midpoint of link1 in global coords = [5.30969883 2.95670858]\n",
            "Midpoint of link2 in global coords = [9.15013139 7.60893529]\n"
          ]
        }
      ],
      "source": [
        "import numpy as np\n",
        "\n",
        "L1 = 5\n",
        "L2 = 8\n",
        "phi1 = np.pi/8\n",
        "phi2 = np.pi/4\n",
        "\n",
        "p1 = np.array([3, 2])\n",
        "\n",
        "def rotation_2d(theta):\n",
        "    c = np.cos(theta)\n",
        "    s = np.sin(theta)\n",
        "    return np.array([\n",
        "        [ c, -s, 0 ],\n",
        "        [ s,  c, 0 ],\n",
        "        [ 0,  0, 1 ]\n",
        "    ])\n",
        "\n",
        "def translate_2d(dx, dy):\n",
        "    T = np.eye(3)\n",
        "    T[0, 2] = dx\n",
        "    T[1, 2] = dy\n",
        "    return T\n",
        "\n",
        "T0_1 = translate_2d(p1[0], p1[1]) @ rotation_2d(phi1)\n",
        "T1_2 = translate_2d(L1, 0) @ rotation_2d(phi2)\n",
        "T0_2 = T0_1 @ T1_2\n",
        "\n",
        "mid_link1_local = np.array([L1/2, 0, 1])\n",
        "mid_link2_local = np.array([L2/2, 0, 1])\n",
        "\n",
        "mid_link1_global = T0_1 @ mid_link1_local\n",
        "mid_link2_global = T0_2 @ mid_link2_local\n",
        "\n",
        "print(\"Midpoint of link1 in global coords =\", mid_link1_global[:2])\n",
        "print(\"Midpoint of link2 in global coords =\", mid_link2_global[:2])\n",
        "\n",
        "\n",
        "\n",
        "\n",
        "\n"
      ]
    },
    {
      "cell_type": "markdown",
      "id": "7b1d733f",
      "metadata": {
        "id": "7b1d733f"
      },
      "source": [
        "### Question 5\n",
        "\n",
        "Using the transformations from the previous questions, calculate the global coordinates of all the joint points and the end-effector location when $\\phi_1 = \\pi/4$ and $\\phi_2 = \\pi/8$."
      ]
    },
    {
      "cell_type": "code",
      "execution_count": 30,
      "id": "817e8a81",
      "metadata": {
        "id": "817e8a81",
        "outputId": "dbed2912-9f13-4848-b0ae-adca57920e95",
        "colab": {
          "base_uri": "https://localhost:8080/"
        }
      },
      "outputs": [
        {
          "output_type": "stream",
          "name": "stdout",
          "text": [
            "Global coordinate of Joint 1: [3 2]\n",
            "Global coordinate of Joint 2: [6.53553391 5.53553391]\n",
            "Global coordinate of the End-Effector: [ 9.59700136 12.92657017]\n"
          ]
        }
      ],
      "source": [
        "import numpy as np\n",
        "\n",
        "p1 = np.array([3, 2])\n",
        "L1 = 5\n",
        "L2 = 8\n",
        "\n",
        "phi1 = np.pi / 4\n",
        "phi2 = np.pi / 8\n",
        "\n",
        "def homogeneous_transform(theta, translation):\n",
        "    c, s = np.cos(theta), np.sin(theta)\n",
        "    T = np.array([\n",
        "        [c, -s, translation[0]],\n",
        "        [s,  c, translation[1]],\n",
        "        [0,  0, 1]\n",
        "    ])\n",
        "    return T\n",
        "\n",
        "T0_1 = homogeneous_transform(phi1, p1)\n",
        "T1_2 = homogeneous_transform(phi2, np.array([L1, 0]))\n",
        "T2_3 = homogeneous_transform(0, np.array([L2, 0]))\n",
        "\n",
        "T0_2 = T0_1 @ T1_2\n",
        "T0_3 = T0_2 @ T2_3\n",
        "\n",
        "joint1_global = p1\n",
        "joint2_global = (T0_2 @ np.array([0, 0, 1]))[:2]\n",
        "end_effector_global = (T0_3 @ np.array([0, 0, 1]))[:2]\n",
        "\n",
        "print(\"Global coordinate of Joint 1:\", joint1_global)\n",
        "print(\"Global coordinate of Joint 2:\", joint2_global)\n",
        "print(\"Global coordinate of the End-Effector:\", end_effector_global)\n",
        "\n",
        "\n",
        "\n",
        "\n"
      ]
    },
    {
      "cell_type": "markdown",
      "id": "66b1cac7",
      "metadata": {
        "id": "66b1cac7"
      },
      "source": [
        "### Question 6\n",
        "\n",
        "Write the matrix that represents the coordinate frame of the end effector w.r.t. frame  $\\mathcal F\\{1\\}$, i.e., $T_{1,3}$"
      ]
    },
    {
      "cell_type": "code",
      "execution_count": 33,
      "id": "cf5fb9dd",
      "metadata": {
        "id": "cf5fb9dd",
        "tags": [],
        "outputId": "cbc3f9fa-e5a3-47de-d75c-4aff0a855d3e",
        "colab": {
          "base_uri": "https://localhost:8080/"
        }
      },
      "outputs": [
        {
          "output_type": "stream",
          "name": "stdout",
          "text": [
            "T1,3 =\n",
            " [[ 0.70710678 -0.70710678 10.65685425]\n",
            " [ 0.70710678  0.70710678  5.65685425]\n",
            " [ 0.          0.          1.        ]]\n"
          ]
        }
      ],
      "source": [
        "import numpy as np\n",
        "\n",
        "phi1 = np.pi/6\n",
        "phi2 = np.pi/4\n",
        "L1 = 5\n",
        "L2 = 8\n",
        "\n",
        "def rotation_2d(theta):\n",
        "    c = np.cos(theta)\n",
        "    s = np.sin(theta)\n",
        "    return np.array([\n",
        "        [ c, -s, 0 ],\n",
        "        [ s,  c, 0 ],\n",
        "        [ 0,  0, 1 ]\n",
        "    ])\n",
        "\n",
        "def translate_2d(dx, dy):\n",
        "    T = np.eye(3)\n",
        "    T[0, 2] = dx\n",
        "    T[1, 2] = dy\n",
        "    return T\n",
        "\n",
        "T1_2 = translate_2d(L1, 0) @ rotation_2d(phi2)\n",
        "\n",
        "T2_3 = translate_2d(L2, 0)\n",
        "\n",
        "\n",
        "T1_3 = T1_2 @ T2_3\n",
        "\n",
        "print(\"T1,3 =\\n\", T1_3)\n",
        "\n",
        "\n",
        "\n"
      ]
    },
    {
      "cell_type": "markdown",
      "id": "3a84cb79",
      "metadata": {
        "id": "3a84cb79"
      },
      "source": [
        "### Question 7\n",
        "\n",
        "Write the matrix that represents the coordinate frame $\\mathcal F\\{1\\}$ w.r.t. to the frame of the end effector"
      ]
    },
    {
      "cell_type": "code",
      "execution_count": 36,
      "id": "b39f8800",
      "metadata": {
        "id": "b39f8800",
        "outputId": "74e23dfa-7102-42ce-b974-170121cd2726",
        "colab": {
          "base_uri": "https://localhost:8080/"
        }
      },
      "outputs": [
        {
          "output_type": "stream",
          "name": "stdout",
          "text": [
            "Transformation matrix T1,3 (F3 with respect to F1):\n",
            "[[ 0.8660254  -0.5        11.92820323]\n",
            " [ 0.5         0.8660254   4.        ]\n",
            " [ 0.          0.          1.        ]]\n",
            "\n",
            "Transformation matrix T3,1 (F1 with respect to F3):\n",
            "[[  0.8660254    0.5        -12.33012702]\n",
            " [ -0.5          0.8660254    2.5       ]\n",
            " [  0.           0.           1.        ]]\n"
          ]
        }
      ],
      "source": [
        "import numpy as np\n",
        "\n",
        "phi2 = np.pi / 4\n",
        "L1 = 5\n",
        "L2 = 8\n",
        "\n",
        "def rotation_2d(theta):\n",
        "    c = np.cos(theta)\n",
        "    s = np.sin(theta)\n",
        "    return np.array([\n",
        "        [ c, -s, 0 ],\n",
        "        [ s,  c, 0 ],\n",
        "        [ 0,  0, 1 ]\n",
        "    ])\n",
        "\n",
        "def translate_2d(dx, dy):\n",
        "    T = np.eye(3)\n",
        "    T[0, 2] = dx\n",
        "    T[1, 2] = dy\n",
        "    return T\n",
        "\n",
        "T1_2 = translate_2d(L1, 0) @ rotation_2d(phi2)\n",
        "T2_3 = translate_2d(L2, 0)\n",
        "\n",
        "T1_3 = T1_2 @ T2_3\n",
        "\n",
        "print(\"T1,3 =\\n\", T1_3)\n",
        "\n",
        "T3_1 = np.linalg.inv(T1_3)\n",
        "\n",
        "print(\"\\nT3,1 =\\n\", T3_1)\n",
        "\n",
        "\n",
        "\n"
      ]
    }
  ],
  "metadata": {
    "colab": {
      "provenance": [],
      "include_colab_link": true
    },
    "kernelspec": {
      "display_name": "Python 3",
      "language": "python",
      "name": "python3"
    },
    "language_info": {
      "codemirror_mode": {
        "name": "ipython",
        "version": 3
      },
      "file_extension": ".py",
      "mimetype": "text/x-python",
      "name": "python",
      "nbconvert_exporter": "python",
      "pygments_lexer": "ipython3",
      "version": "3.9.2"
    }
  },
  "nbformat": 4,
  "nbformat_minor": 5
}